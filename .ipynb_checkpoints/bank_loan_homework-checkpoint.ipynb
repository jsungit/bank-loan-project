{
 "cells": [
  {
   "cell_type": "markdown",
   "metadata": {},
   "source": [
    "# Bank Loan Project"
   ]
  },
  {
   "cell_type": "code",
   "execution_count": 163,
   "metadata": {},
   "outputs": [],
   "source": [
    "# problem description: to predict whether someone will get an interest rate of 9% or lower\n",
    "# result 1 = get the loan with interest 9% or lower; 0 = get the loan with interest higher than 9%"
   ]
  },
  {
   "cell_type": "code",
   "execution_count": 164,
   "metadata": {},
   "outputs": [],
   "source": [
    "import pandas as pd\n",
    "import numpy as np\n",
    "\n",
    "from sklearn.linear_model import LogisticRegression\n",
    "import matplotlib.pyplot as plt\n",
    "from sklearn.metrics import accuracy_score, precision_score, recall_score, confusion_matrix, roc_curve, roc_auc_score, classification_report, log_loss, make_scorer\n",
    "import seaborn as sn\n",
    "from sklearn.preprocessing import StandardScaler\n",
    "from sklearn.model_selection import GridSearchCV, train_test_split\n",
    "import sklearn"
   ]
  },
  {
   "cell_type": "markdown",
   "metadata": {},
   "source": [
    "# Load Data"
   ]
  },
  {
   "cell_type": "code",
   "execution_count": 165,
   "metadata": {},
   "outputs": [
    {
     "data": {
      "text/html": [
       "<div>\n",
       "<style scoped>\n",
       "    .dataframe tbody tr th:only-of-type {\n",
       "        vertical-align: middle;\n",
       "    }\n",
       "\n",
       "    .dataframe tbody tr th {\n",
       "        vertical-align: top;\n",
       "    }\n",
       "\n",
       "    .dataframe thead th {\n",
       "        text-align: right;\n",
       "    }\n",
       "</style>\n",
       "<table border=\"1\" class=\"dataframe\">\n",
       "  <thead>\n",
       "    <tr style=\"text-align: right;\">\n",
       "      <th></th>\n",
       "      <th>Interest.Rate</th>\n",
       "      <th>FICO.Score</th>\n",
       "      <th>Loan.Length</th>\n",
       "      <th>Monthly.Income</th>\n",
       "      <th>Loan.Amount</th>\n",
       "    </tr>\n",
       "  </thead>\n",
       "  <tbody>\n",
       "    <tr>\n",
       "      <th>6</th>\n",
       "      <td>15.31</td>\n",
       "      <td>670.0</td>\n",
       "      <td>36</td>\n",
       "      <td>4891.67</td>\n",
       "      <td>6000</td>\n",
       "    </tr>\n",
       "    <tr>\n",
       "      <th>11</th>\n",
       "      <td>19.72</td>\n",
       "      <td>670.0</td>\n",
       "      <td>36</td>\n",
       "      <td>3575.00</td>\n",
       "      <td>2000</td>\n",
       "    </tr>\n",
       "    <tr>\n",
       "      <th>12</th>\n",
       "      <td>14.27</td>\n",
       "      <td>665.0</td>\n",
       "      <td>36</td>\n",
       "      <td>4250.00</td>\n",
       "      <td>10625</td>\n",
       "    </tr>\n",
       "  </tbody>\n",
       "</table>\n",
       "</div>"
      ],
      "text/plain": [
       "    Interest.Rate  FICO.Score  Loan.Length  Monthly.Income  Loan.Amount\n",
       "6           15.31       670.0           36         4891.67         6000\n",
       "11          19.72       670.0           36         3575.00         2000\n",
       "12          14.27       665.0           36         4250.00        10625"
      ]
     },
     "execution_count": 165,
     "metadata": {},
     "output_type": "execute_result"
    }
   ],
   "source": [
    "df = pd.read_csv('loan.csv')\n",
    "df.head(3)"
   ]
  },
  {
   "cell_type": "markdown",
   "metadata": {},
   "source": [
    "# EDA"
   ]
  },
  {
   "cell_type": "code",
   "execution_count": 166,
   "metadata": {},
   "outputs": [
    {
     "name": "stdout",
     "output_type": "stream",
     "text": [
      "<class 'pandas.core.frame.DataFrame'>\n",
      "Int64Index: 2500 entries, 6 to 2497\n",
      "Data columns (total 5 columns):\n",
      "Interest.Rate     2497 non-null float64\n",
      "FICO.Score        2499 non-null float64\n",
      "Loan.Length       2500 non-null int64\n",
      "Monthly.Income    2495 non-null float64\n",
      "Loan.Amount       2500 non-null int64\n",
      "dtypes: float64(3), int64(2)\n",
      "memory usage: 117.2 KB\n"
     ]
    }
   ],
   "source": [
    "df.info()"
   ]
  },
  {
   "cell_type": "code",
   "execution_count": 167,
   "metadata": {},
   "outputs": [
    {
     "data": {
      "text/html": [
       "<div>\n",
       "<style scoped>\n",
       "    .dataframe tbody tr th:only-of-type {\n",
       "        vertical-align: middle;\n",
       "    }\n",
       "\n",
       "    .dataframe tbody tr th {\n",
       "        vertical-align: top;\n",
       "    }\n",
       "\n",
       "    .dataframe thead th {\n",
       "        text-align: right;\n",
       "    }\n",
       "</style>\n",
       "<table border=\"1\" class=\"dataframe\">\n",
       "  <thead>\n",
       "    <tr style=\"text-align: right;\">\n",
       "      <th></th>\n",
       "      <th>count</th>\n",
       "      <th>mean</th>\n",
       "      <th>std</th>\n",
       "      <th>min</th>\n",
       "      <th>25%</th>\n",
       "      <th>50%</th>\n",
       "      <th>75%</th>\n",
       "      <th>max</th>\n",
       "    </tr>\n",
       "  </thead>\n",
       "  <tbody>\n",
       "    <tr>\n",
       "      <th>Interest.Rate</th>\n",
       "      <td>2497.0</td>\n",
       "      <td>13.067521</td>\n",
       "      <td>4.180074</td>\n",
       "      <td>5.42</td>\n",
       "      <td>10.16</td>\n",
       "      <td>13.11</td>\n",
       "      <td>15.8</td>\n",
       "      <td>24.89</td>\n",
       "    </tr>\n",
       "    <tr>\n",
       "      <th>FICO.Score</th>\n",
       "      <td>2499.0</td>\n",
       "      <td>705.870348</td>\n",
       "      <td>35.029051</td>\n",
       "      <td>640.00</td>\n",
       "      <td>680.00</td>\n",
       "      <td>700.00</td>\n",
       "      <td>725.0</td>\n",
       "      <td>830.00</td>\n",
       "    </tr>\n",
       "    <tr>\n",
       "      <th>Loan.Length</th>\n",
       "      <td>2500.0</td>\n",
       "      <td>41.260800</td>\n",
       "      <td>9.930893</td>\n",
       "      <td>36.00</td>\n",
       "      <td>36.00</td>\n",
       "      <td>36.00</td>\n",
       "      <td>36.0</td>\n",
       "      <td>60.00</td>\n",
       "    </tr>\n",
       "    <tr>\n",
       "      <th>Monthly.Income</th>\n",
       "      <td>2495.0</td>\n",
       "      <td>5690.259599</td>\n",
       "      <td>3964.704795</td>\n",
       "      <td>588.50</td>\n",
       "      <td>3500.00</td>\n",
       "      <td>5000.00</td>\n",
       "      <td>6800.0</td>\n",
       "      <td>102750.00</td>\n",
       "    </tr>\n",
       "    <tr>\n",
       "      <th>Loan.Amount</th>\n",
       "      <td>2500.0</td>\n",
       "      <td>12406.500000</td>\n",
       "      <td>7801.544872</td>\n",
       "      <td>1000.00</td>\n",
       "      <td>6000.00</td>\n",
       "      <td>10000.00</td>\n",
       "      <td>17000.0</td>\n",
       "      <td>35000.00</td>\n",
       "    </tr>\n",
       "  </tbody>\n",
       "</table>\n",
       "</div>"
      ],
      "text/plain": [
       "                 count          mean          std      min      25%       50%  \\\n",
       "Interest.Rate   2497.0     13.067521     4.180074     5.42    10.16     13.11   \n",
       "FICO.Score      2499.0    705.870348    35.029051   640.00   680.00    700.00   \n",
       "Loan.Length     2500.0     41.260800     9.930893    36.00    36.00     36.00   \n",
       "Monthly.Income  2495.0   5690.259599  3964.704795   588.50  3500.00   5000.00   \n",
       "Loan.Amount     2500.0  12406.500000  7801.544872  1000.00  6000.00  10000.00   \n",
       "\n",
       "                    75%        max  \n",
       "Interest.Rate      15.8      24.89  \n",
       "FICO.Score        725.0     830.00  \n",
       "Loan.Length        36.0      60.00  \n",
       "Monthly.Income   6800.0  102750.00  \n",
       "Loan.Amount     17000.0   35000.00  "
      ]
     },
     "execution_count": 167,
     "metadata": {},
     "output_type": "execute_result"
    }
   ],
   "source": [
    "df.describe().T"
   ]
  },
  {
   "cell_type": "code",
   "execution_count": 168,
   "metadata": {},
   "outputs": [],
   "source": [
    "df = df[~df['Interest.Rate'].isna()]\n",
    "df = df[~df['FICO.Score'].isna()]\n",
    "df = df[~df['Monthly.Income'].isna()]"
   ]
  },
  {
   "cell_type": "code",
   "execution_count": 169,
   "metadata": {},
   "outputs": [],
   "source": [
    "df[['is36m']] = pd.get_dummies(df['Loan.Length']).iloc[:, :-1]"
   ]
  },
  {
   "cell_type": "code",
   "execution_count": 170,
   "metadata": {},
   "outputs": [
    {
     "name": "stdout",
     "output_type": "stream",
     "text": [
      "<class 'pandas.core.frame.DataFrame'>\n",
      "Int64Index: 2492 entries, 6 to 2497\n",
      "Data columns (total 6 columns):\n",
      "Interest.Rate     2492 non-null float64\n",
      "FICO.Score        2492 non-null float64\n",
      "Loan.Length       2492 non-null int64\n",
      "Monthly.Income    2492 non-null float64\n",
      "Loan.Amount       2492 non-null int64\n",
      "is36m             2492 non-null uint8\n",
      "dtypes: float64(3), int64(2), uint8(1)\n",
      "memory usage: 119.2 KB\n"
     ]
    }
   ],
   "source": [
    "df.info()"
   ]
  },
  {
   "cell_type": "code",
   "execution_count": null,
   "metadata": {},
   "outputs": [],
   "source": []
  },
  {
   "cell_type": "code",
   "execution_count": 171,
   "metadata": {},
   "outputs": [],
   "source": [
    "##(df['Interest.Rate'] < 9).astype('uint8')"
   ]
  },
  {
   "cell_type": "code",
   "execution_count": 172,
   "metadata": {},
   "outputs": [],
   "source": [
    "df['getLoan'] = ((df['Interest.Rate'] < 9).astype('uint8'))"
   ]
  },
  {
   "cell_type": "code",
   "execution_count": 173,
   "metadata": {},
   "outputs": [
    {
     "data": {
      "text/html": [
       "<div>\n",
       "<style scoped>\n",
       "    .dataframe tbody tr th:only-of-type {\n",
       "        vertical-align: middle;\n",
       "    }\n",
       "\n",
       "    .dataframe tbody tr th {\n",
       "        vertical-align: top;\n",
       "    }\n",
       "\n",
       "    .dataframe thead th {\n",
       "        text-align: right;\n",
       "    }\n",
       "</style>\n",
       "<table border=\"1\" class=\"dataframe\">\n",
       "  <thead>\n",
       "    <tr style=\"text-align: right;\">\n",
       "      <th></th>\n",
       "      <th>Interest.Rate</th>\n",
       "      <th>FICO.Score</th>\n",
       "      <th>Loan.Length</th>\n",
       "      <th>Monthly.Income</th>\n",
       "      <th>Loan.Amount</th>\n",
       "      <th>is36m</th>\n",
       "      <th>getLoan</th>\n",
       "    </tr>\n",
       "  </thead>\n",
       "  <tbody>\n",
       "    <tr>\n",
       "      <th>Interest.Rate</th>\n",
       "      <td>1.000000</td>\n",
       "      <td>-0.708646</td>\n",
       "      <td>0.424041</td>\n",
       "      <td>0.013218</td>\n",
       "      <td>0.332411</td>\n",
       "      <td>-0.424041</td>\n",
       "      <td>-0.703574</td>\n",
       "    </tr>\n",
       "    <tr>\n",
       "      <th>FICO.Score</th>\n",
       "      <td>-0.708646</td>\n",
       "      <td>1.000000</td>\n",
       "      <td>0.012850</td>\n",
       "      <td>0.121372</td>\n",
       "      <td>0.083618</td>\n",
       "      <td>-0.012850</td>\n",
       "      <td>0.620456</td>\n",
       "    </tr>\n",
       "    <tr>\n",
       "      <th>Loan.Length</th>\n",
       "      <td>0.424041</td>\n",
       "      <td>0.012850</td>\n",
       "      <td>1.000000</td>\n",
       "      <td>0.073693</td>\n",
       "      <td>0.412133</td>\n",
       "      <td>-1.000000</td>\n",
       "      <td>-0.232048</td>\n",
       "    </tr>\n",
       "    <tr>\n",
       "      <th>Monthly.Income</th>\n",
       "      <td>0.013218</td>\n",
       "      <td>0.121372</td>\n",
       "      <td>0.073693</td>\n",
       "      <td>1.000000</td>\n",
       "      <td>0.389300</td>\n",
       "      <td>-0.073693</td>\n",
       "      <td>0.052399</td>\n",
       "    </tr>\n",
       "    <tr>\n",
       "      <th>Loan.Amount</th>\n",
       "      <td>0.332411</td>\n",
       "      <td>0.083618</td>\n",
       "      <td>0.412133</td>\n",
       "      <td>0.389300</td>\n",
       "      <td>1.000000</td>\n",
       "      <td>-0.412133</td>\n",
       "      <td>-0.166609</td>\n",
       "    </tr>\n",
       "    <tr>\n",
       "      <th>is36m</th>\n",
       "      <td>-0.424041</td>\n",
       "      <td>-0.012850</td>\n",
       "      <td>-1.000000</td>\n",
       "      <td>-0.073693</td>\n",
       "      <td>-0.412133</td>\n",
       "      <td>1.000000</td>\n",
       "      <td>0.232048</td>\n",
       "    </tr>\n",
       "    <tr>\n",
       "      <th>getLoan</th>\n",
       "      <td>-0.703574</td>\n",
       "      <td>0.620456</td>\n",
       "      <td>-0.232048</td>\n",
       "      <td>0.052399</td>\n",
       "      <td>-0.166609</td>\n",
       "      <td>0.232048</td>\n",
       "      <td>1.000000</td>\n",
       "    </tr>\n",
       "  </tbody>\n",
       "</table>\n",
       "</div>"
      ],
      "text/plain": [
       "                Interest.Rate  FICO.Score  Loan.Length  Monthly.Income  \\\n",
       "Interest.Rate        1.000000   -0.708646     0.424041        0.013218   \n",
       "FICO.Score          -0.708646    1.000000     0.012850        0.121372   \n",
       "Loan.Length          0.424041    0.012850     1.000000        0.073693   \n",
       "Monthly.Income       0.013218    0.121372     0.073693        1.000000   \n",
       "Loan.Amount          0.332411    0.083618     0.412133        0.389300   \n",
       "is36m               -0.424041   -0.012850    -1.000000       -0.073693   \n",
       "getLoan             -0.703574    0.620456    -0.232048        0.052399   \n",
       "\n",
       "                Loan.Amount     is36m   getLoan  \n",
       "Interest.Rate      0.332411 -0.424041 -0.703574  \n",
       "FICO.Score         0.083618 -0.012850  0.620456  \n",
       "Loan.Length        0.412133 -1.000000 -0.232048  \n",
       "Monthly.Income     0.389300 -0.073693  0.052399  \n",
       "Loan.Amount        1.000000 -0.412133 -0.166609  \n",
       "is36m             -0.412133  1.000000  0.232048  \n",
       "getLoan           -0.166609  0.232048  1.000000  "
      ]
     },
     "execution_count": 173,
     "metadata": {},
     "output_type": "execute_result"
    }
   ],
   "source": [
    "df.corr()"
   ]
  },
  {
   "cell_type": "code",
   "execution_count": null,
   "metadata": {},
   "outputs": [],
   "source": []
  },
  {
   "cell_type": "code",
   "execution_count": 174,
   "metadata": {},
   "outputs": [
    {
     "data": {
      "text/plain": [
       "array([[<matplotlib.axes._subplots.AxesSubplot object at 0x000001294F333940>,\n",
       "        <matplotlib.axes._subplots.AxesSubplot object at 0x000001294EF08CC0>,\n",
       "        <matplotlib.axes._subplots.AxesSubplot object at 0x000001294F35DD30>],\n",
       "       [<matplotlib.axes._subplots.AxesSubplot object at 0x000001294F365C18>,\n",
       "        <matplotlib.axes._subplots.AxesSubplot object at 0x000001294F335198>,\n",
       "        <matplotlib.axes._subplots.AxesSubplot object at 0x000001294F3DE710>],\n",
       "       [<matplotlib.axes._subplots.AxesSubplot object at 0x000001294F372C88>,\n",
       "        <matplotlib.axes._subplots.AxesSubplot object at 0x000001294F644278>,\n",
       "        <matplotlib.axes._subplots.AxesSubplot object at 0x000001294F6442B0>]],\n",
       "      dtype=object)"
      ]
     },
     "execution_count": 174,
     "metadata": {},
     "output_type": "execute_result"
    },
    {
     "data": {
      "image/png": "[encoded data removed]",
      "text/plain": [
       "<Figure size 720x504 with 9 Axes>"
      ]
     },
     "metadata": {
      "needs_background": "light"
     },
     "output_type": "display_data"
    }
   ],
   "source": [
    "df.hist(bins= 10, figsize = (10, 7))"
   ]
  },
  {
   "cell_type": "code",
   "execution_count": null,
   "metadata": {},
   "outputs": [],
   "source": []
  },
  {
   "cell_type": "code",
   "execution_count": 175,
   "metadata": {},
   "outputs": [
    {
     "data": {
      "text/html": [
       "<div>\n",
       "<style scoped>\n",
       "    .dataframe tbody tr th:only-of-type {\n",
       "        vertical-align: middle;\n",
       "    }\n",
       "\n",
       "    .dataframe tbody tr th {\n",
       "        vertical-align: top;\n",
       "    }\n",
       "\n",
       "    .dataframe thead th {\n",
       "        text-align: right;\n",
       "    }\n",
       "</style>\n",
       "<table border=\"1\" class=\"dataframe\">\n",
       "  <thead>\n",
       "    <tr style=\"text-align: right;\">\n",
       "      <th>LoanLenght</th>\n",
       "      <th>36</th>\n",
       "      <th>60</th>\n",
       "    </tr>\n",
       "    <tr>\n",
       "      <th>getLoan</th>\n",
       "      <th></th>\n",
       "      <th></th>\n",
       "    </tr>\n",
       "  </thead>\n",
       "  <tbody>\n",
       "    <tr>\n",
       "      <th>0</th>\n",
       "      <td>1430</td>\n",
       "      <td>529</td>\n",
       "    </tr>\n",
       "    <tr>\n",
       "      <th>1</th>\n",
       "      <td>514</td>\n",
       "      <td>19</td>\n",
       "    </tr>\n",
       "  </tbody>\n",
       "</table>\n",
       "</div>"
      ],
      "text/plain": [
       "LoanLenght    36   60\n",
       "getLoan              \n",
       "0           1430  529\n",
       "1            514   19"
      ]
     },
     "execution_count": 175,
     "metadata": {},
     "output_type": "execute_result"
    }
   ],
   "source": [
    "# crosstab\n",
    "ctab = pd.crosstab(df.getLoan, [df['Loan.Length']], rownames =['getLoan'], colnames = ['LoanLenght'])\n",
    "ctab"
   ]
  },
  {
   "cell_type": "code",
   "execution_count": 176,
   "metadata": {},
   "outputs": [
    {
     "data": {
      "text/plain": [
       "<matplotlib.axes._subplots.AxesSubplot at 0x1294f407978>"
      ]
     },
     "execution_count": 176,
     "metadata": {},
     "output_type": "execute_result"
    },
    {
     "data": {
      "image/png": "[encoded data removed]",
      "text/plain": [
       "<Figure size 432x288 with 1 Axes>"
      ]
     },
     "metadata": {
      "needs_background": "light"
     },
     "output_type": "display_data"
    }
   ],
   "source": [
    "ctab.plot(kind = \"bar\")"
   ]
  },
  {
   "cell_type": "code",
   "execution_count": 177,
   "metadata": {},
   "outputs": [
    {
     "data": {
      "text/plain": [
       "(0.213884430176565, 0.786115569823435)"
      ]
     },
     "execution_count": 177,
     "metadata": {},
     "output_type": "execute_result"
    }
   ],
   "source": [
    "# imbalance class\n",
    "(df['Interest.Rate'] < 9).astype('uint8').sum() / df['Interest.Rate'].size\n",
    "df.getLoan.sum()/df.getLoan.size, (df.getLoan.size - df.getLoan.sum())/df.getLoan.size"
   ]
  },
  {
   "cell_type": "markdown",
   "metadata": {},
   "source": [
    "# Split and Scale "
   ]
  },
  {
   "cell_type": "code",
   "execution_count": 178,
   "metadata": {},
   "outputs": [],
   "source": [
    "y = df.pop('getLoan')\n",
    "###X = df[['FICO.Score', 'Loan.Length', 'Monthly.Income', 'Loan.Amount']]\n",
    "X = df[['FICO.Score', 'is36m', 'Monthly.Income', 'Loan.Amount']]"
   ]
  },
  {
   "cell_type": "code",
   "execution_count": 179,
   "metadata": {},
   "outputs": [
    {
     "name": "stderr",
     "output_type": "stream",
     "text": [
      "C:\\Users\\eka06n0\\AppData\\Local\\Continuum\\anaconda3\\lib\\site-packages\\sklearn\\preprocessing\\data.py:625: DataConversionWarning: Data with input dtype uint8, int64, float64 were all converted to float64 by StandardScaler.\n",
      "  return self.partial_fit(X, y)\n",
      "C:\\Users\\eka06n0\\AppData\\Local\\Continuum\\anaconda3\\lib\\site-packages\\ipykernel_launcher.py:3: DataConversionWarning: Data with input dtype uint8, int64, float64 were all converted to float64 by StandardScaler.\n",
      "  This is separate from the ipykernel package so we can avoid doing imports until\n",
      "C:\\Users\\eka06n0\\AppData\\Local\\Continuum\\anaconda3\\lib\\site-packages\\ipykernel_launcher.py:4: DataConversionWarning: Data with input dtype uint8, int64, float64 were all converted to float64 by StandardScaler.\n",
      "  after removing the cwd from sys.path.\n"
     ]
    }
   ],
   "source": [
    "X_train, X_test, y_train, y_test = train_test_split(X, y, test_size=0.33, random_state=21)\n",
    "scalar = StandardScaler().fit(X_train)\n",
    "X_train = scalar.transform(X_train)\n",
    "X_test = scalar.transform(X_test)"
   ]
  },
  {
   "cell_type": "code",
   "execution_count": 180,
   "metadata": {},
   "outputs": [],
   "source": [
    "###print('\\n'.join(sklearn.metrics.SCORERS.keys()))"
   ]
  },
  {
   "cell_type": "markdown",
   "metadata": {},
   "source": [
    "# Gridsearch"
   ]
  },
  {
   "cell_type": "code",
   "execution_count": 181,
   "metadata": {},
   "outputs": [
    {
     "name": "stderr",
     "output_type": "stream",
     "text": [
      "C:\\Users\\eka06n0\\AppData\\Local\\Continuum\\anaconda3\\lib\\site-packages\\sklearn\\model_selection\\_search.py:841: DeprecationWarning: The default of the `iid` parameter will change from True to False in version 0.22 and will be removed in 0.24. This will change numeric results when test-set sizes are unequal.\n",
      "  DeprecationWarning)\n"
     ]
    },
    {
     "data": {
      "text/plain": [
       "GridSearchCV(cv=10, error_score='raise-deprecating',\n",
       "       estimator=LogisticRegression(C=1.0, class_weight=None, dual=False, fit_intercept=True,\n",
       "          intercept_scaling=1, max_iter=100, multi_class='warn',\n",
       "          n_jobs=None, penalty='l2', random_state=None, solver='warn',\n",
       "          tol=0.0001, verbose=0, warm_start=False),\n",
       "       fit_params=None, iid='warn', n_jobs=5,\n",
       "       param_grid={'penalty': ['l2'], 'solver': ['newton-cg', 'lbfgs', 'liblinear', 'sag', 'saga'], 'fit_intercept': [True, False], 'C': array([1.00000e-03, 1.32571e-03, 1.75751e-03, 2.32995e-03, 3.08884e-03,\n",
       "       4.09492e-03, 5.42868e-03, 7.19686e-03, 9.54095e-03, 1.26486e-02,\n",
       "       1.67683e-02, 2.2230... 1.84207e+02, 2.44205e+02,\n",
       "       3.23746e+02, 4.29193e+02, 5.68987e+02, 7.54312e+02, 1.00000e+03])},\n",
       "       pre_dispatch='2*n_jobs', refit=True, return_train_score='warn',\n",
       "       scoring='neg_log_loss', verbose=0)"
      ]
     },
     "execution_count": 181,
     "metadata": {},
     "output_type": "execute_result"
    }
   ],
   "source": [
    "params = {\n",
    "          'penalty': ['l2'], \n",
    "          'solver': ['newton-cg', 'lbfgs', 'liblinear', 'sag', 'saga'],\n",
    "          'fit_intercept': [True, False],\n",
    "          'C': np.logspace(-3,3)\n",
    "         }\n",
    "gs = GridSearchCV(LogisticRegression(), param_grid=params, scoring='neg_log_loss', cv=10, n_jobs=5).fit(X_train, y_train)\n",
    "gs"
   ]
  },
  {
   "cell_type": "markdown",
   "metadata": {},
   "source": [
    "# Results"
   ]
  },
  {
   "cell_type": "code",
   "execution_count": 182,
   "metadata": {},
   "outputs": [
    {
     "data": {
      "text/plain": [
       "LogisticRegression(C=0.868511373751352, class_weight=None, dual=False,\n",
       "          fit_intercept=True, intercept_scaling=1, max_iter=100,\n",
       "          multi_class='warn', n_jobs=None, penalty='l2', random_state=None,\n",
       "          solver='saga', tol=0.0001, verbose=0, warm_start=False)"
      ]
     },
     "execution_count": 182,
     "metadata": {},
     "output_type": "execute_result"
    }
   ],
   "source": [
    "gs.best_estimator_"
   ]
  },
  {
   "cell_type": "markdown",
   "metadata": {},
   "source": [
    "# Final Model"
   ]
  },
  {
   "cell_type": "code",
   "execution_count": 183,
   "metadata": {},
   "outputs": [
    {
     "data": {
      "text/plain": [
       "{'C': 0.868511373751352,\n",
       " 'fit_intercept': True,\n",
       " 'penalty': 'l2',\n",
       " 'solver': 'saga'}"
      ]
     },
     "execution_count": 183,
     "metadata": {},
     "output_type": "execute_result"
    }
   ],
   "source": [
    "gs.best_params_"
   ]
  },
  {
   "cell_type": "code",
   "execution_count": 184,
   "metadata": {},
   "outputs": [],
   "source": [
    "model = LogisticRegression(**gs.best_params_).fit(X_train, y_train)"
   ]
  },
  {
   "cell_type": "code",
   "execution_count": 185,
   "metadata": {},
   "outputs": [],
   "source": [
    "y_hat = model.predict(X_test)\n",
    "p_hat = model.predict_proba(X_test)[:,1]"
   ]
  },
  {
   "cell_type": "code",
   "execution_count": 186,
   "metadata": {},
   "outputs": [
    {
     "data": {
      "text/plain": [
       "0.23759213440044605"
      ]
     },
     "execution_count": 186,
     "metadata": {},
     "output_type": "execute_result"
    }
   ],
   "source": [
    "log_loss(y_test, p_hat)"
   ]
  },
  {
   "cell_type": "code",
   "execution_count": 187,
   "metadata": {},
   "outputs": [
    {
     "data": {
      "text/plain": [
       "(0.7679222357229647, 0.8918590522478737)"
      ]
     },
     "execution_count": 187,
     "metadata": {},
     "output_type": "execute_result"
    }
   ],
   "source": [
    "baseline = 1 - (y_test.sum() / y_test.size)\n",
    "accuracy = accuracy_score(y_test, y_hat)\n",
    "baseline, accuracy"
   ]
  },
  {
   "cell_type": "code",
   "execution_count": 188,
   "metadata": {},
   "outputs": [
    {
     "data": {
      "text/plain": [
       "0.81875"
      ]
     },
     "execution_count": 188,
     "metadata": {},
     "output_type": "execute_result"
    }
   ],
   "source": [
    "# TP / (TP + FP) # type 1 errors\n",
    "precision_score(y_test, y_hat)"
   ]
  },
  {
   "cell_type": "code",
   "execution_count": 189,
   "metadata": {},
   "outputs": [
    {
     "data": {
      "text/plain": [
       "0.6858638743455497"
      ]
     },
     "execution_count": 189,
     "metadata": {},
     "output_type": "execute_result"
    }
   ],
   "source": [
    "# TP / (TP + FN) # type 2 errors --- focus on increasing this number\n",
    "recall_score(y_test, y_hat)"
   ]
  },
  {
   "cell_type": "markdown",
   "metadata": {},
   "source": [
    "# ROC Curve"
   ]
  },
  {
   "cell_type": "code",
   "execution_count": 190,
   "metadata": {},
   "outputs": [
    {
     "data": {
      "text/plain": [
       "0.9536665783020745"
      ]
     },
     "execution_count": 190,
     "metadata": {},
     "output_type": "execute_result"
    }
   ],
   "source": [
    "auc = roc_auc_score(y_test, p_hat)\n",
    "auc"
   ]
  },
  {
   "cell_type": "code",
   "execution_count": 191,
   "metadata": {},
   "outputs": [
    {
     "name": "stdout",
     "output_type": "stream",
     "text": [
      "2.00 0.00 0.00\n",
      "1.00 0.00 0.01\n",
      "0.99 0.00 0.09\n",
      "0.99 0.00 0.09\n",
      "0.95 0.00 0.20\n",
      "0.94 0.00 0.20\n",
      "0.87 0.00 0.32\n",
      "0.87 0.00 0.32\n",
      "0.87 0.00 0.34\n",
      "0.87 0.01 0.34\n",
      "0.87 0.01 0.34\n",
      "0.86 0.01 0.34\n",
      "0.86 0.01 0.35\n",
      "0.85 0.01 0.35\n",
      "0.81 0.01 0.39\n",
      "0.80 0.02 0.39\n",
      "0.77 0.02 0.41\n",
      "0.76 0.02 0.41\n",
      "0.72 0.02 0.46\n",
      "0.71 0.02 0.46\n",
      "0.70 0.02 0.46\n",
      "0.70 0.02 0.46\n",
      "0.68 0.02 0.49\n",
      "0.68 0.02 0.49\n",
      "0.65 0.02 0.52\n",
      "0.65 0.03 0.52\n",
      "0.65 0.03 0.53\n",
      "0.64 0.03 0.53\n",
      "0.64 0.03 0.53\n",
      "0.63 0.03 0.53\n",
      "0.59 0.03 0.58\n",
      "0.59 0.03 0.58\n",
      "0.57 0.03 0.59\n",
      "0.56 0.04 0.59\n",
      "0.55 0.04 0.61\n",
      "0.55 0.04 0.61\n",
      "0.55 0.04 0.61\n",
      "0.55 0.04 0.61\n",
      "0.53 0.04 0.65\n",
      "0.53 0.04 0.65\n",
      "0.51 0.04 0.68\n",
      "0.51 0.04 0.68\n",
      "0.51 0.04 0.69\n",
      "0.50 0.05 0.69\n",
      "0.48 0.05 0.73\n",
      "0.48 0.05 0.73\n",
      "0.47 0.05 0.74\n",
      "0.44 0.05 0.74\n",
      "0.44 0.05 0.75\n",
      "0.44 0.06 0.75\n",
      "0.44 0.06 0.75\n",
      "0.43 0.06 0.75\n",
      "0.43 0.06 0.76\n",
      "0.43 0.06 0.76\n",
      "0.41 0.06 0.79\n",
      "0.41 0.06 0.79\n",
      "0.41 0.06 0.79\n",
      "0.41 0.06 0.79\n",
      "0.40 0.06 0.80\n",
      "0.40 0.06 0.80\n",
      "0.39 0.06 0.81\n",
      "0.37 0.07 0.81\n",
      "0.37 0.07 0.81\n",
      "0.36 0.07 0.81\n",
      "0.36 0.07 0.82\n",
      "0.35 0.08 0.82\n",
      "0.35 0.08 0.83\n",
      "0.34 0.08 0.83\n",
      "0.33 0.08 0.85\n",
      "0.33 0.08 0.85\n",
      "0.32 0.08 0.85\n",
      "0.32 0.09 0.85\n",
      "0.31 0.09 0.86\n",
      "0.29 0.09 0.86\n",
      "0.29 0.09 0.87\n",
      "0.27 0.10 0.87\n",
      "0.27 0.10 0.87\n",
      "0.24 0.11 0.87\n",
      "0.24 0.11 0.88\n",
      "0.23 0.11 0.88\n",
      "0.23 0.11 0.88\n",
      "0.22 0.12 0.88\n",
      "0.22 0.12 0.89\n",
      "0.21 0.13 0.89\n",
      "0.21 0.13 0.90\n",
      "0.21 0.14 0.90\n",
      "0.21 0.14 0.90\n",
      "0.21 0.14 0.90\n",
      "0.20 0.14 0.91\n",
      "0.20 0.14 0.91\n",
      "0.20 0.14 0.91\n",
      "0.19 0.15 0.91\n",
      "0.19 0.15 0.93\n",
      "0.18 0.15 0.93\n",
      "0.18 0.15 0.93\n",
      "0.18 0.16 0.93\n",
      "0.18 0.16 0.94\n",
      "0.17 0.17 0.94\n",
      "0.16 0.17 0.95\n",
      "0.16 0.18 0.95\n",
      "0.16 0.18 0.96\n",
      "0.16 0.18 0.96\n",
      "0.16 0.18 0.96\n",
      "0.16 0.18 0.96\n",
      "0.16 0.18 0.97\n",
      "0.15 0.19 0.97\n",
      "0.15 0.19 0.97\n",
      "0.15 0.19 0.97\n",
      "0.15 0.19 0.98\n",
      "0.13 0.20 0.98\n",
      "0.13 0.20 0.98\n",
      "0.06 0.31 0.98\n",
      "0.06 0.31 0.98\n",
      "0.05 0.36 0.98\n",
      "0.05 0.36 0.98\n",
      "0.05 0.37 0.98\n",
      "0.05 0.37 0.99\n",
      "0.04 0.40 0.99\n",
      "0.04 0.40 0.99\n",
      "0.03 0.48 0.99\n",
      "0.03 0.48 0.99\n",
      "0.02 0.58 0.99\n",
      "0.02 0.58 0.99\n",
      "0.01 0.63 0.99\n",
      "0.01 0.63 1.00\n",
      "0.00 0.92 1.00\n",
      "0.00 0.92 1.00\n",
      "0.00 1.00 1.00\n"
     ]
    }
   ],
   "source": [
    "fpr, tpr, thr = roc_curve(y_test, p_hat)\n",
    "for th, fp, tp in zip(thr, fpr, tpr):\n",
    "    print(\"{0:.2f} {1:.2f} {2:.2f}\".format(th, fp, tp))"
   ]
  },
  {
   "cell_type": "code",
   "execution_count": 192,
   "metadata": {},
   "outputs": [
    {
     "data": {
      "image/png": "[encoded data removed]",
      "text/plain": [
       "<Figure size 432x288 with 1 Axes>"
      ]
     },
     "metadata": {
      "needs_background": "light"
     },
     "output_type": "display_data"
    }
   ],
   "source": [
    "plt.plot(fpr, tpr, label=auc, color='#ff33cc', alpha=0.7)\n",
    "plt.plot(np.linspace(0,1), np.linspace(0,1), linestyle='--', alpha=0.5)\n",
    "plt.title('ROC Curve')\n",
    "plt.xlabel('FPR')\n",
    "plt.ylabel('TPR')\n",
    "plt.legend()\n",
    "plt.show()"
   ]
  },
  {
   "cell_type": "code",
   "execution_count": null,
   "metadata": {},
   "outputs": [],
   "source": []
  }
 ],
 "metadata": {
  "kernelspec": {
   "display_name": "Python 3",
   "language": "python",
   "name": "python3"
  },
  "language_info": {
   "codemirror_mode": {
    "name": "ipython",
    "version": 3
   },
   "file_extension": ".py",
   "mimetype": "text/x-python",
   "name": "python",
   "nbconvert_exporter": "python",
   "pygments_lexer": "ipython3",
   "version": "3.7.1"
  }
 },
 "nbformat": 4,
 "nbformat_minor": 2
}
